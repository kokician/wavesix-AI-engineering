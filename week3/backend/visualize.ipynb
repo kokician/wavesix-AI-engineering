{
 "cells": [
  {
   "cell_type": "code",
   "execution_count": 1,
   "id": "fb94cd6c",
   "metadata": {},
   "outputs": [],
   "source": [
    "from rag.utils.embedding_io import load_vectors\n",
    "from rag.utils.visualization import visualize_vectors\n",
    "import os"
   ]
  },
  {
   "cell_type": "code",
   "execution_count": 2,
   "id": "9803af42",
   "metadata": {},
   "outputs": [
    {
     "name": "stdout",
     "output_type": "stream",
     "text": [
      "✅ PCA plot saved to data/vectors/36731cac-5fd1-4015-91cc-d56450368202_pca_plot.png\n"
     ]
    }
   ],
   "source": [
    "# Cell 2: Load and visualize\n",
    "doc_id = \"36731cac-5fd1-4015-91cc-d56450368202\"\n",
    "\n",
    "vector_path = f\"data/vectors/{doc_id}.json\"\n",
    "output_path = f\"data/vectors/{doc_id}_pca_plot.png\"\n",
    "\n",
    "if os.path.exists(vector_path):\n",
    "    vectors = load_vectors(vector_path)\n",
    "    visualize_vectors(vectors, output_path)\n",
    "    print(f\"✅ PCA plot saved to {output_path}\")\n",
    "else:\n",
    "    print(f\"❌ Vector file not found at {vector_path}\")\n"
   ]
  },
  {
   "cell_type": "code",
   "execution_count": 1,
   "id": "6e848f29",
   "metadata": {},
   "outputs": [],
   "source": [
    "from llama_index.core import SimpleDirectoryReader\n",
    "from llama_index.core.llama_dataset import LabelledRagDataset"
   ]
  },
  {
   "cell_type": "code",
   "execution_count": 7,
   "id": "e06df579",
   "metadata": {},
   "outputs": [
    {
     "ename": "NameError",
     "evalue": "name 'doc_id' is not defined",
     "output_type": "error",
     "traceback": [
      "\u001b[31m---------------------------------------------------------------------------\u001b[39m",
      "\u001b[31mNameError\u001b[39m                                 Traceback (most recent call last)",
      "\u001b[36mCell\u001b[39m\u001b[36m \u001b[39m\u001b[32mIn[7]\u001b[39m\u001b[32m, line 1\u001b[39m\n\u001b[32m----> \u001b[39m\u001b[32m1\u001b[39m rag_dataset = LabelledRagDataset.from_json(\u001b[33mf\u001b[39m\u001b[33m\"\u001b[39m\u001b[33m./data/vectors/\u001b[39m\u001b[38;5;132;01m{\u001b[39;00m\u001b[43mdoc_id\u001b[49m\u001b[38;5;132;01m}\u001b[39;00m\u001b[33m.json\u001b[39m\u001b[33m\"\u001b[39m)\n\u001b[32m      2\u001b[39m documents = SimpleDirectoryReader(input_dir=\u001b[33mf\u001b[39m\u001b[33m\"\u001b[39m\u001b[33m./data/source_files\u001b[39m\u001b[33m\"\u001b[39m).load_data()\n",
      "\u001b[31mNameError\u001b[39m: name 'doc_id' is not defined"
     ]
    }
   ],
   "source": [
    "rag_dataset = LabelledRagDataset.from_json(f\"./data/vectors/{doc_id}.json\")\n",
    "documents = SimpleDirectoryReader(input_dir=f\"./data/source_files\").load_data()"
   ]
  },
  {
   "cell_type": "code",
   "execution_count": null,
   "id": "ad6ae506",
   "metadata": {},
   "outputs": [],
   "source": []
  }
 ],
 "metadata": {
  "kernelspec": {
   "display_name": "venv",
   "language": "python",
   "name": "python3"
  },
  "language_info": {
   "codemirror_mode": {
    "name": "ipython",
    "version": 3
   },
   "file_extension": ".py",
   "mimetype": "text/x-python",
   "name": "python",
   "nbconvert_exporter": "python",
   "pygments_lexer": "ipython3",
   "version": "3.13.3"
  }
 },
 "nbformat": 4,
 "nbformat_minor": 5
}
