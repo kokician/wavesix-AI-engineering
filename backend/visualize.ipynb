{
 "cells": [
  {
   "cell_type": "code",
   "execution_count": 1,
   "id": "fb94cd6c",
   "metadata": {},
   "outputs": [],
   "source": [
    "from rag.utils.embedding_io import load_vectors\n",
    "from rag.utils.visualization import visualize_vectors\n",
    "import os"
   ]
  },
  {
   "cell_type": "code",
   "execution_count": 2,
   "id": "9803af42",
   "metadata": {},
   "outputs": [
    {
     "name": "stdout",
     "output_type": "stream",
     "text": [
      "✅ PCA plot saved to data/vectors/36731cac-5fd1-4015-91cc-d56450368202_pca_plot.png\n"
     ]
    }
   ],
   "source": [
    "# Cell 2: Load and visualize\n",
    "doc_id = \"36731cac-5fd1-4015-91cc-d56450368202\"\n",
    "\n",
    "vector_path = f\"data/vectors/{doc_id}.json\"\n",
    "output_path = f\"data/vectors/{doc_id}_pca_plot.png\"\n",
    "\n",
    "if os.path.exists(vector_path):\n",
    "    vectors = load_vectors(vector_path)\n",
    "    visualize_vectors(vectors, output_path)\n",
    "    print(f\"✅ PCA plot saved to {output_path}\")\n",
    "else:\n",
    "    print(f\"❌ Vector file not found at {vector_path}\")\n"
   ]
  },
  {
   "cell_type": "code",
   "execution_count": null,
   "id": "6e848f29",
   "metadata": {},
   "outputs": [],
   "source": []
  }
 ],
 "metadata": {
  "kernelspec": {
   "display_name": "venv",
   "language": "python",
   "name": "python3"
  },
  "language_info": {
   "codemirror_mode": {
    "name": "ipython",
    "version": 3
   },
   "file_extension": ".py",
   "mimetype": "text/x-python",
   "name": "python",
   "nbconvert_exporter": "python",
   "pygments_lexer": "ipython3",
   "version": "3.13.3"
  }
 },
 "nbformat": 4,
 "nbformat_minor": 5
}
