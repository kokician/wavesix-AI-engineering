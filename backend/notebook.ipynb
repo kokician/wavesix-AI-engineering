{
 "cells": [
  {
   "cell_type": "code",
   "execution_count": 5,
   "id": "d84227c3",
   "metadata": {},
   "outputs": [
    {
     "name": "stderr",
     "output_type": "stream",
     "text": [
      "c:\\Users\\kokil\\Desktop\\RAG\\wavesix-AI-engineering\\venv\\Lib\\site-packages\\tqdm\\auto.py:21: TqdmWarning: IProgress not found. Please update jupyter and ipywidgets. See https://ipywidgets.readthedocs.io/en/stable/user_install.html\n",
      "  from .autonotebook import tqdm as notebook_tqdm\n"
     ]
    }
   ],
   "source": [
    "import gradio as gr\n",
    "import requests"
   ]
  },
  {
   "cell_type": "code",
   "execution_count": 2,
   "id": "dc078602",
   "metadata": {},
   "outputs": [],
   "source": [
    "API_URL = \"http://localhost:8000/query\""
   ]
  },
  {
   "cell_type": "code",
   "execution_count": 3,
   "id": "5140ae1a",
   "metadata": {},
   "outputs": [],
   "source": [
    "def query_docs(question, top_k=3):\n",
    "    payload = {\n",
    "        \"query\": question,\n",
    "        \"top_k\": top_k\n",
    "    }\n",
    "    try:\n",
    "        response = requests.post(API_URL, json=payload)\n",
    "        data = response.json()\n",
    "        if \"response\" in data:\n",
    "            sources_text = \"\"\n",
    "            for src in data.get(\"sources\", []):\n",
    "                sources_text += (\n",
    "                    f\"📄 **{src['document_name']}** (Page {src.get('page_number', 'N/A')}):\\n\"\n",
    "                    f\"> {src['text']}\\n\\n\"\n",
    "                )\n",
    "            return data[\"response\"], sources_text\n",
    "        else:\n",
    "            return \"No response\", \"\"\n",
    "    except Exception as e:\n",
    "        return f\"Error querying documents: {e}\", \"\""
   ]
  },
  {
   "cell_type": "code",
   "execution_count": 6,
   "id": "ccf6fa8d",
   "metadata": {},
   "outputs": [],
   "source": [
    "iface = gr.Interface(\n",
    "    fn=query_docs,\n",
    "    inputs=[\n",
    "        gr.Textbox(label=\"Ask a Question\", placeholder=\"e.g. Who was Shaka Zulu?\", lines=2),\n",
    "        gr.Slider(minimum=1, maximum=10, value=3, label=\"Top K Results\")\n",
    "    ],\n",
    "    outputs=[\n",
    "        gr.Textbox(label=\"Answer\", lines=4),\n",
    "        gr.Textbox(label=\"Sources\", lines=8)\n",
    "    ],\n",
    "    title=\"📚 Document Query Assistant\",\n",
    "    description=\"Ask questions about your uploaded documents.\"\n",
    ")"
   ]
  },
  {
   "cell_type": "code",
   "execution_count": 7,
   "id": "6e7a7916",
   "metadata": {},
   "outputs": [
    {
     "name": "stdout",
     "output_type": "stream",
     "text": [
      "* Running on local URL:  http://127.0.0.1:7860\n",
      "* To create a public link, set `share=True` in `launch()`.\n"
     ]
    },
    {
     "data": {
      "text/html": [
       "<div><iframe src=\"http://127.0.0.1:7860/\" width=\"100%\" height=\"500\" allow=\"autoplay; camera; microphone; clipboard-read; clipboard-write;\" frameborder=\"0\" allowfullscreen></iframe></div>"
      ],
      "text/plain": [
       "<IPython.core.display.HTML object>"
      ]
     },
     "metadata": {},
     "output_type": "display_data"
    },
    {
     "data": {
      "text/plain": []
     },
     "execution_count": 7,
     "metadata": {},
     "output_type": "execute_result"
    }
   ],
   "source": [
    "iface.launch()"
   ]
  }
 ],
 "metadata": {
  "kernelspec": {
   "display_name": "venv",
   "language": "python",
   "name": "python3"
  },
  "language_info": {
   "codemirror_mode": {
    "name": "ipython",
    "version": 3
   },
   "file_extension": ".py",
   "mimetype": "text/x-python",
   "name": "python",
   "nbconvert_exporter": "python",
   "pygments_lexer": "ipython3",
   "version": "3.13.3"
  }
 },
 "nbformat": 4,
 "nbformat_minor": 5
}
